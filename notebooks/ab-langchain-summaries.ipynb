{
 "cells": [
  {
   "cell_type": "code",
   "execution_count": 1,
   "metadata": {},
   "outputs": [],
   "source": [
    "from langchain import OpenAI\n",
    "from langchain.chains.summarize import load_summarize_chain\n",
    "from langchain.text_splitter import RecursiveCharacterTextSplitter\n",
    "from langchain import PromptTemplate\n",
    "from langchain.callbacks import WandbCallbackHandler, StdOutCallbackHandler\n",
    "from langchain.callbacks.base import CallbackManager\n",
    "from getpass import getpass\n",
    "\n",
    "import os \n",
    "from os.path import join, dirname \n",
    "\n",
    "\n",
    "PATH_REPO = dirname(os.getcwd())\n",
    "PATH_DATA = join(PATH_REPO, 'data')\n",
    "PATH_UTILS = join(PATH_REPO, 'src')\n",
    "\n",
    "import sys\n",
    "\n",
    "sys.path.append(PATH_REPO)\n",
    "#sys.path.append(PATH_UTILS)\n",
    "\n",
    "from src import time_series\n",
    "from src import utils_plot\n",
    "from src import anomaly\n",
    "from src import preprocess\n",
    "from src import summarize\n",
    "from src import top_terms_extractor\n",
    "from src import top_trends\n",
    "from src import preprocesser\n",
    "import pandas as pd\n",
    "import numpy as np\n",
    "from datetime import datetime\n"
   ]
  },
  {
   "cell_type": "code",
   "execution_count": 2,
   "metadata": {},
   "outputs": [],
   "source": [
    "import os\n",
    "\n",
    "#os.environ[\"WANDB_API_KEY\"] = \n",
    "os.environ[\"OPENAI_API_KEY\"] = openai_api_key"
   ]
  },
  {
   "cell_type": "code",
   "execution_count": 3,
   "metadata": {},
   "outputs": [],
   "source": [
    "llm = OpenAI(temperature=0, openai_api_key=openai_api_key)\n"
   ]
  },
  {
   "cell_type": "code",
   "execution_count": 4,
   "metadata": {},
   "outputs": [
    {
     "name": "stderr",
     "output_type": "stream",
     "text": [
      "Failed to detect the name of this notebook, you can set it manually with the WANDB_NOTEBOOK_NAME environment variable to enable code saving.\n",
      "\u001b[34m\u001b[1mwandb\u001b[0m: Currently logged in as: \u001b[33mbonells96\u001b[0m. Use \u001b[1m`wandb login --relogin`\u001b[0m to force relogin\n"
     ]
    },
    {
     "data": {
      "text/html": [
       "Tracking run with wandb version 0.15.8"
      ],
      "text/plain": [
       "<IPython.core.display.HTML object>"
      ]
     },
     "metadata": {},
     "output_type": "display_data"
    },
    {
     "data": {
      "text/html": [
       "Run data is saved locally in <code>/Users/alejandrobonell/ds-Alerts/notebooks/wandb/run-20230811_212705-9qpvugwd</code>"
      ],
      "text/plain": [
       "<IPython.core.display.HTML object>"
      ]
     },
     "metadata": {},
     "output_type": "display_data"
    },
    {
     "data": {
      "text/html": [
       "Syncing run <strong><a href='https://wandb.ai/bonells96/langchain_callback_demo/runs/9qpvugwd' target=\"_blank\">llm</a></strong> to <a href='https://wandb.ai/bonells96/langchain_callback_demo' target=\"_blank\">Weights & Biases</a> (<a href='https://wandb.me/run' target=\"_blank\">docs</a>)<br/>"
      ],
      "text/plain": [
       "<IPython.core.display.HTML object>"
      ]
     },
     "metadata": {},
     "output_type": "display_data"
    },
    {
     "data": {
      "text/html": [
       " View project at <a href='https://wandb.ai/bonells96/langchain_callback_demo' target=\"_blank\">https://wandb.ai/bonells96/langchain_callback_demo</a>"
      ],
      "text/plain": [
       "<IPython.core.display.HTML object>"
      ]
     },
     "metadata": {},
     "output_type": "display_data"
    },
    {
     "data": {
      "text/html": [
       " View run at <a href='https://wandb.ai/bonells96/langchain_callback_demo/runs/9qpvugwd' target=\"_blank\">https://wandb.ai/bonells96/langchain_callback_demo/runs/9qpvugwd</a>"
      ],
      "text/plain": [
       "<IPython.core.display.HTML object>"
      ]
     },
     "metadata": {},
     "output_type": "display_data"
    },
    {
     "name": "stderr",
     "output_type": "stream",
     "text": [
      "\u001b[34m\u001b[1mwandb\u001b[0m: \u001b[33mWARNING\u001b[0m The wandb callback is currently in beta and is subject to change based on updates to `langchain`. Please report any issues to https://github.com/wandb/wandb/issues with the tag `langchain`.\n"
     ]
    }
   ],
   "source": [
    "\"\"\"Main function.\n",
    "\n",
    "This function is used to test the callback handler.\n",
    "Scenarios:\n",
    "1. OpenAI LLM\n",
    "2. Chain with multiple SubChains on multiple generations\n",
    "3. Agent with Tools\n",
    "\"\"\"\n",
    "session_group = datetime.now().strftime(\"%m.%d.%Y_%H.%M.%S\")\n",
    "wandb_callback = WandbCallbackHandler(\n",
    "    job_type=\"inference\",\n",
    "    project=\"langchain_callback_demo\",\n",
    "    group=f\"minimal_{session_group}\",\n",
    "    name=\"llm\",\n",
    "    tags=[\"test\"],\n",
    ")\n",
    "manager = CallbackManager([StdOutCallbackHandler(), wandb_callback])\n",
    "llm = OpenAI(temperature=0, callback_manager=manager, verbose=True)"
   ]
  },
  {
   "cell_type": "code",
   "execution_count": 5,
   "metadata": {},
   "outputs": [
    {
     "data": {
      "text/html": [
       "<div>\n",
       "<style scoped>\n",
       "    .dataframe tbody tr th:only-of-type {\n",
       "        vertical-align: middle;\n",
       "    }\n",
       "\n",
       "    .dataframe tbody tr th {\n",
       "        vertical-align: top;\n",
       "    }\n",
       "\n",
       "    .dataframe thead th {\n",
       "        text-align: right;\n",
       "    }\n",
       "</style>\n",
       "<table border=\"1\" class=\"dataframe\">\n",
       "  <thead>\n",
       "    <tr style=\"text-align: right;\">\n",
       "      <th></th>\n",
       "      <th>id</th>\n",
       "      <th>text</th>\n",
       "      <th>translated_text</th>\n",
       "      <th>created_at</th>\n",
       "      <th>lang</th>\n",
       "      <th>source</th>\n",
       "      <th>name</th>\n",
       "      <th>screen_name</th>\n",
       "      <th>bio</th>\n",
       "      <th>us_created_at</th>\n",
       "      <th>...</th>\n",
       "      <th>friends_count</th>\n",
       "      <th>statuses_count</th>\n",
       "      <th>favourites_count</th>\n",
       "      <th>country</th>\n",
       "      <th>country_code</th>\n",
       "      <th>locality</th>\n",
       "      <th>region</th>\n",
       "      <th>sub_region</th>\n",
       "      <th>coordinates</th>\n",
       "      <th>date</th>\n",
       "    </tr>\n",
       "  </thead>\n",
       "  <tbody>\n",
       "    <tr>\n",
       "      <th>0</th>\n",
       "      <td>1531879580767772672</td>\n",
       "      <td>Believe me this is not an online shoe store. I...</td>\n",
       "      <td>Believe me this is not an online shoe store. I...</td>\n",
       "      <td>2022-06-01T06:05:27+00:00</td>\n",
       "      <td>en</td>\n",
       "      <td>twitter</td>\n",
       "      <td>Shkaib Ahmad</td>\n",
       "      <td>@ShkmPro</td>\n",
       "      <td>MBBS 21' | Ghazian |Manchester United 🔴 | Foot...</td>\n",
       "      <td>2020-05-29T16:25:07+00:00</td>\n",
       "      <td>...</td>\n",
       "      <td>467</td>\n",
       "      <td>942</td>\n",
       "      <td>1964</td>\n",
       "      <td>Pakistan</td>\n",
       "      <td>PK</td>\n",
       "      <td>NaN</td>\n",
       "      <td>NaN</td>\n",
       "      <td>NaN</td>\n",
       "      <td>30.0, 70.0</td>\n",
       "      <td>2022-06-01</td>\n",
       "    </tr>\n",
       "    <tr>\n",
       "      <th>1</th>\n",
       "      <td>1532683704706924546</td>\n",
       "      <td>Crimean-Congo Hemorrhagic Fever in Iraq https:...</td>\n",
       "      <td>Crimean-Congo Hemorrhagic Fever in Iraq https:...</td>\n",
       "      <td>2022-06-03T11:20:45+00:00</td>\n",
       "      <td>en</td>\n",
       "      <td>twitter</td>\n",
       "      <td>Dr Ali Raza Majid</td>\n",
       "      <td>@dralirazamajid</td>\n",
       "      <td>Consultant Medical Virologist, Indus Hospital ...</td>\n",
       "      <td>2015-11-11T11:06:12+00:00</td>\n",
       "      <td>...</td>\n",
       "      <td>96</td>\n",
       "      <td>113</td>\n",
       "      <td>1107</td>\n",
       "      <td>Pakistan</td>\n",
       "      <td>PK</td>\n",
       "      <td>Peshāwar</td>\n",
       "      <td>North-West Frontier Province</td>\n",
       "      <td>NaN</td>\n",
       "      <td>34.008, 71.57849</td>\n",
       "      <td>2022-06-03</td>\n",
       "    </tr>\n",
       "    <tr>\n",
       "      <th>2</th>\n",
       "      <td>1533333043934801921</td>\n",
       "      <td>the 3 phases of #denguefever. it is vital to l...</td>\n",
       "      <td>the 3 phases of #denguefever. it is vital to l...</td>\n",
       "      <td>2022-06-05T06:21:00+00:00</td>\n",
       "      <td>en</td>\n",
       "      <td>twitter</td>\n",
       "      <td>Ahmed Yanaal</td>\n",
       "      <td>@ahmed_yanaal</td>\n",
       "      <td>🇲🇻. 👨‍⚕️. 🏃. @funnybeys, @lfc, and #medtwitter.</td>\n",
       "      <td>2019-12-04T14:40:50+00:00</td>\n",
       "      <td>...</td>\n",
       "      <td>677</td>\n",
       "      <td>3348</td>\n",
       "      <td>21942</td>\n",
       "      <td>Pakistan</td>\n",
       "      <td>PK</td>\n",
       "      <td>Karachi</td>\n",
       "      <td>Sindh</td>\n",
       "      <td>Karāchi District</td>\n",
       "      <td>24.9056, 67.0822</td>\n",
       "      <td>2022-06-05</td>\n",
       "    </tr>\n",
       "    <tr>\n",
       "      <th>3</th>\n",
       "      <td>1534261731857354752</td>\n",
       "      <td>عید الاضحیٰ کے لیے قربانی کے جانور خریدتے وقت ...</td>\n",
       "      <td>Take special precautions when buying the sacri...</td>\n",
       "      <td>2022-06-07T19:51:16+00:00</td>\n",
       "      <td>ur</td>\n",
       "      <td>twitter</td>\n",
       "      <td>Hamid ur Rehman</td>\n",
       "      <td>@Hamidurrehmaan</td>\n",
       "      <td>Health Reporter  @SAMAATV , Past @DunyaNews, @...</td>\n",
       "      <td>2010-06-07T13:53:16+00:00</td>\n",
       "      <td>...</td>\n",
       "      <td>226</td>\n",
       "      <td>24258</td>\n",
       "      <td>32060</td>\n",
       "      <td>Pakistan</td>\n",
       "      <td>PK</td>\n",
       "      <td>Karachi</td>\n",
       "      <td>Sindh</td>\n",
       "      <td>Karāchi District</td>\n",
       "      <td>24.9056, 67.0822</td>\n",
       "      <td>2022-06-07</td>\n",
       "    </tr>\n",
       "    <tr>\n",
       "      <th>4</th>\n",
       "      <td>1534255578817740802</td>\n",
       "      <td>ان دنوں میں کانگو وائرس اور لمپی اسکن کے کیسز ...</td>\n",
       "      <td>In these days the Congo virus and Lumpy Skin c...</td>\n",
       "      <td>2022-06-07T19:26:49+00:00</td>\n",
       "      <td>ur</td>\n",
       "      <td>twitter</td>\n",
       "      <td>SAMAA TV</td>\n",
       "      <td>@SAMAATV</td>\n",
       "      <td>پاکستان کا سب سے بڑانیوزچینل جولاتا ہے تازہ تر...</td>\n",
       "      <td>2009-02-27T10:38:25+00:00</td>\n",
       "      <td>...</td>\n",
       "      <td>77</td>\n",
       "      <td>350040</td>\n",
       "      <td>209</td>\n",
       "      <td>Pakistan</td>\n",
       "      <td>PK</td>\n",
       "      <td>NaN</td>\n",
       "      <td>NaN</td>\n",
       "      <td>NaN</td>\n",
       "      <td>30.0, 70.0</td>\n",
       "      <td>2022-06-07</td>\n",
       "    </tr>\n",
       "  </tbody>\n",
       "</table>\n",
       "<p>5 rows × 21 columns</p>\n",
       "</div>"
      ],
      "text/plain": [
       "                    id                                               text  \\\n",
       "0  1531879580767772672  Believe me this is not an online shoe store. I...   \n",
       "1  1532683704706924546  Crimean-Congo Hemorrhagic Fever in Iraq https:...   \n",
       "2  1533333043934801921  the 3 phases of #denguefever. it is vital to l...   \n",
       "3  1534261731857354752  عید الاضحیٰ کے لیے قربانی کے جانور خریدتے وقت ...   \n",
       "4  1534255578817740802  ان دنوں میں کانگو وائرس اور لمپی اسکن کے کیسز ...   \n",
       "\n",
       "                                     translated_text  \\\n",
       "0  Believe me this is not an online shoe store. I...   \n",
       "1  Crimean-Congo Hemorrhagic Fever in Iraq https:...   \n",
       "2  the 3 phases of #denguefever. it is vital to l...   \n",
       "3  Take special precautions when buying the sacri...   \n",
       "4  In these days the Congo virus and Lumpy Skin c...   \n",
       "\n",
       "                  created_at lang   source               name  \\\n",
       "0  2022-06-01T06:05:27+00:00   en  twitter       Shkaib Ahmad   \n",
       "1  2022-06-03T11:20:45+00:00   en  twitter  Dr Ali Raza Majid   \n",
       "2  2022-06-05T06:21:00+00:00   en  twitter       Ahmed Yanaal   \n",
       "3  2022-06-07T19:51:16+00:00   ur  twitter    Hamid ur Rehman   \n",
       "4  2022-06-07T19:26:49+00:00   ur  twitter           SAMAA TV   \n",
       "\n",
       "       screen_name                                                bio  \\\n",
       "0         @ShkmPro  MBBS 21' | Ghazian |Manchester United 🔴 | Foot...   \n",
       "1  @dralirazamajid  Consultant Medical Virologist, Indus Hospital ...   \n",
       "2    @ahmed_yanaal    🇲🇻. 👨‍⚕️. 🏃. @funnybeys, @lfc, and #medtwitter.   \n",
       "3  @Hamidurrehmaan  Health Reporter  @SAMAATV , Past @DunyaNews, @...   \n",
       "4         @SAMAATV  پاکستان کا سب سے بڑانیوزچینل جولاتا ہے تازہ تر...   \n",
       "\n",
       "               us_created_at  ...  friends_count  statuses_count  \\\n",
       "0  2020-05-29T16:25:07+00:00  ...            467             942   \n",
       "1  2015-11-11T11:06:12+00:00  ...             96             113   \n",
       "2  2019-12-04T14:40:50+00:00  ...            677            3348   \n",
       "3  2010-06-07T13:53:16+00:00  ...            226           24258   \n",
       "4  2009-02-27T10:38:25+00:00  ...             77          350040   \n",
       "\n",
       "   favourites_count   country country_code  locality  \\\n",
       "0              1964  Pakistan           PK       NaN   \n",
       "1              1107  Pakistan           PK  Peshāwar   \n",
       "2             21942  Pakistan           PK   Karachi   \n",
       "3             32060  Pakistan           PK   Karachi   \n",
       "4               209  Pakistan           PK       NaN   \n",
       "\n",
       "                         region        sub_region       coordinates  \\\n",
       "0                           NaN               NaN        30.0, 70.0   \n",
       "1  North-West Frontier Province               NaN  34.008, 71.57849   \n",
       "2                         Sindh  Karāchi District  24.9056, 67.0822   \n",
       "3                         Sindh  Karāchi District  24.9056, 67.0822   \n",
       "4                           NaN               NaN        30.0, 70.0   \n",
       "\n",
       "         date  \n",
       "0  2022-06-01  \n",
       "1  2022-06-03  \n",
       "2  2022-06-05  \n",
       "3  2022-06-07  \n",
       "4  2022-06-07  \n",
       "\n",
       "[5 rows x 21 columns]"
      ]
     },
     "execution_count": 5,
     "metadata": {},
     "output_type": "execute_result"
    }
   ],
   "source": [
    "name_data =  'Congo virus - Pakistan - Data (1)'#'Congo virus - Pakistan - Data (1)'\n",
    "data = pd.read_csv(join(PATH_DATA, f'{name_data}.csv'))\n",
    "#data['date'] = pd.to_datetime(data['date'])\n",
    "data.head(5)"
   ]
  },
  {
   "cell_type": "code",
   "execution_count": 6,
   "metadata": {},
   "outputs": [],
   "source": [
    "texts = data.loc[:,'text'].values.tolist()\n",
    "texts_joined = \".\\n\".join(texts)"
   ]
  },
  {
   "cell_type": "code",
   "execution_count": 7,
   "metadata": {},
   "outputs": [
    {
     "data": {
      "text/plain": [
       "48971"
      ]
     },
     "execution_count": 7,
     "metadata": {},
     "output_type": "execute_result"
    }
   ],
   "source": [
    "llm.get_num_tokens('.\\n'.join(texts))\n"
   ]
  },
  {
   "cell_type": "code",
   "execution_count": 10,
   "metadata": {},
   "outputs": [
    {
     "data": {
      "text/html": [
       "Waiting for W&B process to finish... <strong style=\"color:green\">(success).</strong>"
      ],
      "text/plain": [
       "<IPython.core.display.HTML object>"
      ]
     },
     "metadata": {},
     "output_type": "display_data"
    },
    {
     "name": "stderr",
     "output_type": "stream",
     "text": [
      "wandb: WARNING Source type is set to 'repo' but some required information is missing from the environment. A job will not be created from this run. See https://docs.wandb.ai/guides/launch/create-job\n"
     ]
    },
    {
     "data": {
      "text/html": [
       " View run <strong style=\"color:#cdcd00\">simple_sequential</strong> at: <a href='https://wandb.ai/bonells96/langchain_callback_demo/runs/k1342kh3' target=\"_blank\">https://wandb.ai/bonells96/langchain_callback_demo/runs/k1342kh3</a><br/>Synced 4 W&B file(s), 2 media file(s), 4 artifact file(s) and 0 other file(s)"
      ],
      "text/plain": [
       "<IPython.core.display.HTML object>"
      ]
     },
     "metadata": {},
     "output_type": "display_data"
    },
    {
     "data": {
      "text/html": [
       "Find logs at: <code>./wandb/run-20230811_212842-k1342kh3/logs</code>"
      ],
      "text/plain": [
       "<IPython.core.display.HTML object>"
      ]
     },
     "metadata": {},
     "output_type": "display_data"
    },
    {
     "data": {
      "application/vnd.jupyter.widget-view+json": {
       "model_id": "5aafd824c6f84b11ab9a2734ff23de6f",
       "version_major": 2,
       "version_minor": 0
      },
      "text/plain": [
       "VBox(children=(Label(value='Waiting for wandb.init()...\\r'), FloatProgress(value=0.016683963883333302, max=1.0…"
      ]
     },
     "metadata": {},
     "output_type": "display_data"
    },
    {
     "data": {
      "text/html": [
       "Tracking run with wandb version 0.15.8"
      ],
      "text/plain": [
       "<IPython.core.display.HTML object>"
      ]
     },
     "metadata": {},
     "output_type": "display_data"
    },
    {
     "data": {
      "text/html": [
       "Run data is saved locally in <code>/Users/alejandrobonell/ds-Alerts/notebooks/wandb/run-20230811_212927-np8ycve7</code>"
      ],
      "text/plain": [
       "<IPython.core.display.HTML object>"
      ]
     },
     "metadata": {},
     "output_type": "display_data"
    },
    {
     "data": {
      "text/html": [
       "Syncing run <strong><a href='https://wandb.ai/bonells96/langchain_callback_demo/runs/np8ycve7' target=\"_blank\">simple_sequential</a></strong> to <a href='https://wandb.ai/bonells96/langchain_callback_demo' target=\"_blank\">Weights & Biases</a> (<a href='https://wandb.me/run' target=\"_blank\">docs</a>)<br/>"
      ],
      "text/plain": [
       "<IPython.core.display.HTML object>"
      ]
     },
     "metadata": {},
     "output_type": "display_data"
    },
    {
     "data": {
      "text/html": [
       " View project at <a href='https://wandb.ai/bonells96/langchain_callback_demo' target=\"_blank\">https://wandb.ai/bonells96/langchain_callback_demo</a>"
      ],
      "text/plain": [
       "<IPython.core.display.HTML object>"
      ]
     },
     "metadata": {},
     "output_type": "display_data"
    },
    {
     "data": {
      "text/html": [
       " View run at <a href='https://wandb.ai/bonells96/langchain_callback_demo/runs/np8ycve7' target=\"_blank\">https://wandb.ai/bonells96/langchain_callback_demo/runs/np8ycve7</a>"
      ],
      "text/plain": [
       "<IPython.core.display.HTML object>"
      ]
     },
     "metadata": {},
     "output_type": "display_data"
    },
    {
     "name": "stderr",
     "output_type": "stream",
     "text": [
      "wandb: Network error (ConnectionError), entering retry loop.\n"
     ]
    }
   ],
   "source": [
    "llm_result = llm.generate([\"Tell me a joke\", \"Tell me a poem\"] * 3)\n",
    "wandb_callback.flush_tracker(llm, name=\"simple_sequential\")"
   ]
  },
  {
   "cell_type": "code",
   "execution_count": 11,
   "metadata": {},
   "outputs": [],
   "source": [
    "text_splitter = RecursiveCharacterTextSplitter(separators=[\"\\n\\n\", \"\\n\"], chunk_size=2500, chunk_overlap=500)\n",
    "docs = text_splitter.create_documents([texts_joined])"
   ]
  },
  {
   "cell_type": "code",
   "execution_count": 12,
   "metadata": {},
   "outputs": [],
   "source": [
    "num_tokens_first_doc = llm.get_num_tokens(docs[0].page_content)"
   ]
  },
  {
   "cell_type": "code",
   "execution_count": 13,
   "metadata": {},
   "outputs": [
    {
     "data": {
      "text/plain": [
       "2368"
      ]
     },
     "execution_count": 13,
     "metadata": {},
     "output_type": "execute_result"
    }
   ],
   "source": [
    "num_tokens_first_doc"
   ]
  },
  {
   "cell_type": "code",
   "execution_count": 20,
   "metadata": {},
   "outputs": [],
   "source": [
    "\n",
    "summary_chain = load_summarize_chain(llm=llm, chain_type='map_reduce', callback_manager=manager\n",
    "#                                      verbose=True # Set verbose=True if you want to see the prompts being used\n",
    "                                    )"
   ]
  },
  {
   "cell_type": "code",
   "execution_count": 21,
   "metadata": {},
   "outputs": [
    {
     "data": {
      "text/plain": [
       "37"
      ]
     },
     "execution_count": 21,
     "metadata": {},
     "output_type": "execute_result"
    }
   ],
   "source": [
    "len(docs)"
   ]
  },
  {
   "cell_type": "code",
   "execution_count": 22,
   "metadata": {},
   "outputs": [
    {
     "data": {
      "text/html": [
       "Waiting for W&B process to finish... <strong style=\"color:green\">(success).</strong>"
      ],
      "text/plain": [
       "<IPython.core.display.HTML object>"
      ]
     },
     "metadata": {},
     "output_type": "display_data"
    },
    {
     "name": "stderr",
     "output_type": "stream",
     "text": [
      "wandb: WARNING Source type is set to 'repo' but some required information is missing from the environment. A job will not be created from this run. See https://docs.wandb.ai/guides/launch/create-job\n"
     ]
    },
    {
     "data": {
      "text/html": [
       " View run <strong style=\"color:#cdcd00\">summarizer</strong> at: <a href='https://wandb.ai/bonells96/langchain_callback_demo/runs/j4q96k4v' target=\"_blank\">https://wandb.ai/bonells96/langchain_callback_demo/runs/j4q96k4v</a><br/>Synced 4 W&B file(s), 2 media file(s), 43 artifact file(s) and 0 other file(s)"
      ],
      "text/plain": [
       "<IPython.core.display.HTML object>"
      ]
     },
     "metadata": {},
     "output_type": "display_data"
    },
    {
     "data": {
      "text/html": [
       "Find logs at: <code>./wandb/run-20230812_083225-j4q96k4v/logs</code>"
      ],
      "text/plain": [
       "<IPython.core.display.HTML object>"
      ]
     },
     "metadata": {},
     "output_type": "display_data"
    },
    {
     "data": {
      "application/vnd.jupyter.widget-view+json": {
       "model_id": "3d1cf19fbc4c4a179c6b20d32aff3b9c",
       "version_major": 2,
       "version_minor": 0
      },
      "text/plain": [
       "VBox(children=(Label(value='Waiting for wandb.init()...\\r'), FloatProgress(value=0.0167142507000032, max=1.0))…"
      ]
     },
     "metadata": {},
     "output_type": "display_data"
    },
    {
     "data": {
      "text/html": [
       "Tracking run with wandb version 0.15.8"
      ],
      "text/plain": [
       "<IPython.core.display.HTML object>"
      ]
     },
     "metadata": {},
     "output_type": "display_data"
    },
    {
     "data": {
      "text/html": [
       "Run data is saved locally in <code>/Users/alejandrobonell/ds-Alerts/notebooks/wandb/run-20230812_083835-5b674zpw</code>"
      ],
      "text/plain": [
       "<IPython.core.display.HTML object>"
      ]
     },
     "metadata": {},
     "output_type": "display_data"
    },
    {
     "data": {
      "text/html": [
       "Syncing run <strong><a href='https://wandb.ai/bonells96/langchain_callback_demo/runs/5b674zpw' target=\"_blank\">summarizer</a></strong> to <a href='https://wandb.ai/bonells96/langchain_callback_demo' target=\"_blank\">Weights & Biases</a> (<a href='https://wandb.me/run' target=\"_blank\">docs</a>)<br/>"
      ],
      "text/plain": [
       "<IPython.core.display.HTML object>"
      ]
     },
     "metadata": {},
     "output_type": "display_data"
    },
    {
     "data": {
      "text/html": [
       " View project at <a href='https://wandb.ai/bonells96/langchain_callback_demo' target=\"_blank\">https://wandb.ai/bonells96/langchain_callback_demo</a>"
      ],
      "text/plain": [
       "<IPython.core.display.HTML object>"
      ]
     },
     "metadata": {},
     "output_type": "display_data"
    },
    {
     "data": {
      "text/html": [
       " View run at <a href='https://wandb.ai/bonells96/langchain_callback_demo/runs/5b674zpw' target=\"_blank\">https://wandb.ai/bonells96/langchain_callback_demo/runs/5b674zpw</a>"
      ],
      "text/plain": [
       "<IPython.core.display.HTML object>"
      ]
     },
     "metadata": {},
     "output_type": "display_data"
    },
    {
     "name": "stderr",
     "output_type": "stream",
     "text": [
      "wandb: Network error (ConnectionError), entering retry loop.\n"
     ]
    }
   ],
   "source": [
    "output = summary_chain.run(docs)\n",
    "output\n",
    "wandb_callback.flush_tracker(summary_chain, name=\"summarizer\")"
   ]
  },
  {
   "cell_type": "code",
   "execution_count": 17,
   "metadata": {},
   "outputs": [
    {
     "data": {
      "text/plain": [
       "' The National Institutes of Health has issued an advisory to take precautionary measures against the Congo virus during the Eid-ul-Azha festival. The government of Pakistan has taken precautionary measures to curb the spread of the virus, such as providing financial aid, open market and stock market support, and providing medical supplies and vaccines. The Khyber Pakhtunkhwa government has also issued an advisory to protect against the possible outbreak of Congo Virus in the Province. Symptoms of the virus are similar to those of dengue fever and preventive measures are being taken to contain the spread of the virus.'"
      ]
     },
     "execution_count": 17,
     "metadata": {},
     "output_type": "execute_result"
    }
   ],
   "source": [
    "output"
   ]
  },
  {
   "cell_type": "code",
   "execution_count": 33,
   "metadata": {},
   "outputs": [],
   "source": [
    "\n",
    "map_prompt = \"\"\"\n",
    "Write a concise summary of the following:\n",
    "\"{text}\"\n",
    "CONCISE SUMMARY:\n",
    "\"\"\"\n",
    "map_prompt_template = PromptTemplate(template=map_prompt, input_variables=[\"text\"])"
   ]
  },
  {
   "cell_type": "code",
   "execution_count": null,
   "metadata": {},
   "outputs": [],
   "source": []
  }
 ],
 "metadata": {
  "kernelspec": {
   "display_name": "query_betterment",
   "language": "python",
   "name": "python3"
  },
  "language_info": {
   "codemirror_mode": {
    "name": "ipython",
    "version": 3
   },
   "file_extension": ".py",
   "mimetype": "text/x-python",
   "name": "python",
   "nbconvert_exporter": "python",
   "pygments_lexer": "ipython3",
   "version": "3.9.16"
  },
  "orig_nbformat": 4
 },
 "nbformat": 4,
 "nbformat_minor": 2
}
